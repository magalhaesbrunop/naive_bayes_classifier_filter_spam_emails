{
 "cells": [
  {
   "cell_type": "markdown",
   "id": "28dfacfc",
   "metadata": {},
   "source": [
    "# Imports"
   ]
  },
  {
   "cell_type": "code",
   "execution_count": 1,
   "id": "b0305f4e",
   "metadata": {},
   "outputs": [],
   "source": [
    "import pandas as pd\n",
    "import numpy as np\n",
    "import matplotlib.pyplot as plt\n",
    "import seaborn as sns\n",
    "\n",
    "%matplotlib inline"
   ]
  },
  {
   "cell_type": "markdown",
   "id": "dda76838",
   "metadata": {},
   "source": [
    "# Constants"
   ]
  },
  {
   "cell_type": "code",
   "execution_count": 2,
   "id": "f4e62ef9",
   "metadata": {},
   "outputs": [],
   "source": [
    "VOCAB_SIZE = 2500\n",
    "\n",
    "TOKEN_SPAM_PROB_FILE = \"SpamData/SpamData/03_Testing/prob-spam.txt\"\n",
    "TOKEN_HAM_PROB_FILE = \"SpamData/SpamData/03_Testing/prob-nonspam.txt\"\n",
    "TOKEN_ALL_PROB_FILE = \"SpamData/SpamData/03_Testing/prob-all-tokens.txt\"\n",
    "\n",
    "TEST_FEATURE_MATRIX = \"SpamData/SpamData/03_Testing/test-features.txt\"\n",
    "TEST_TARGET_FILE = \"SpamData/SpamData/03_Testing/test-target.txt\""
   ]
  },
  {
   "cell_type": "markdown",
   "id": "fcfbaa1e",
   "metadata": {},
   "source": [
    "# Load Data"
   ]
  },
  {
   "cell_type": "code",
   "execution_count": 3,
   "id": "0099f185",
   "metadata": {},
   "outputs": [],
   "source": [
    "# Features\n",
    "X_test = np.loadtxt(TEST_FEATURE_MATRIX, delimiter=\" \")\n",
    "# Target\n",
    "y_test = np.loadtxt(TEST_TARGET_FILE, delimiter=\" \")\n",
    "#Token Probabilities\n",
    "prob_token_spam = np.loadtxt(TOKEN_SPAM_PROB_FILE, delimiter=\" \")\n",
    "prob_token_ham = np.loadtxt(TOKEN_HAM_PROB_FILE, delimiter=\" \")\n",
    "prob_all_tokens = np.loadtxt(TOKEN_ALL_PROB_FILE, delimiter=\" \")"
   ]
  },
  {
   "cell_type": "code",
   "execution_count": 5,
   "id": "5d539a4d",
   "metadata": {},
   "outputs": [
    {
     "data": {
      "text/plain": [
       "array([1., 1., 1., ..., 0., 0., 0.])"
      ]
     },
     "execution_count": 5,
     "metadata": {},
     "output_type": "execute_result"
    }
   ],
   "source": [
    "y_test"
   ]
  },
  {
   "cell_type": "code",
   "execution_count": 7,
   "id": "24d70a93",
   "metadata": {},
   "outputs": [
    {
     "data": {
      "text/plain": [
       "(1724,)"
      ]
     },
     "execution_count": 7,
     "metadata": {},
     "output_type": "execute_result"
    }
   ],
   "source": [
    "y_test.shape"
   ]
  },
  {
   "cell_type": "code",
   "execution_count": 6,
   "id": "4452e130",
   "metadata": {},
   "outputs": [
    {
     "data": {
      "text/plain": [
       "array([[0., 0., 1., ..., 0., 0., 0.],\n",
       "       [6., 1., 1., ..., 0., 0., 0.],\n",
       "       [0., 0., 1., ..., 0., 0., 0.],\n",
       "       ...,\n",
       "       [0., 4., 0., ..., 0., 0., 0.],\n",
       "       [2., 2., 0., ..., 0., 0., 0.],\n",
       "       [1., 9., 1., ..., 0., 0., 0.]])"
      ]
     },
     "execution_count": 6,
     "metadata": {},
     "output_type": "execute_result"
    }
   ],
   "source": [
    "X_test"
   ]
  },
  {
   "cell_type": "code",
   "execution_count": 8,
   "id": "d593f46e",
   "metadata": {},
   "outputs": [
    {
     "data": {
      "text/plain": [
       "(1724, 2500)"
      ]
     },
     "execution_count": 8,
     "metadata": {},
     "output_type": "execute_result"
    }
   ],
   "source": [
    "X_test.shape"
   ]
  },
  {
   "cell_type": "code",
   "execution_count": 9,
   "id": "5eea083f",
   "metadata": {},
   "outputs": [
    {
     "data": {
      "text/plain": [
       "array([1.21855742e-02, 5.22878010e-03, 6.80580255e-03, ...,\n",
       "       1.11845564e-05, 5.59227818e-06, 1.45399233e-04])"
      ]
     },
     "execution_count": 9,
     "metadata": {},
     "output_type": "execute_result"
    }
   ],
   "source": [
    "prob_token_spam"
   ]
  },
  {
   "cell_type": "code",
   "execution_count": 10,
   "id": "8e1d7cf1",
   "metadata": {},
   "outputs": [
    {
     "data": {
      "text/plain": [
       "(2500,)"
      ]
     },
     "execution_count": 10,
     "metadata": {},
     "output_type": "execute_result"
    }
   ],
   "source": [
    "prob_token_spam.shape"
   ]
  },
  {
   "cell_type": "code",
   "execution_count": 11,
   "id": "9b24c710",
   "metadata": {},
   "outputs": [
    {
     "data": {
      "text/plain": [
       "array([2.14750593e-02, 1.01423056e-02, 8.00811384e-03, ...,\n",
       "       1.09646547e-04, 9.78987023e-05, 1.17478443e-05])"
      ]
     },
     "execution_count": 11,
     "metadata": {},
     "output_type": "execute_result"
    }
   ],
   "source": [
    "prob_token_ham"
   ]
  },
  {
   "cell_type": "code",
   "execution_count": 12,
   "id": "6cb74f23",
   "metadata": {},
   "outputs": [
    {
     "data": {
      "text/plain": [
       "(2500,)"
      ]
     },
     "execution_count": 12,
     "metadata": {},
     "output_type": "execute_result"
    }
   ],
   "source": [
    "prob_token_ham.shape"
   ]
  },
  {
   "cell_type": "code",
   "execution_count": 13,
   "id": "ee831d2a",
   "metadata": {},
   "outputs": [
    {
     "data": {
      "text/plain": [
       "array([1.78501528e-02, 8.20860051e-03, 7.59580972e-03, ...,\n",
       "       6.52400835e-05, 5.59200716e-05, 6.29100805e-05])"
      ]
     },
     "execution_count": 13,
     "metadata": {},
     "output_type": "execute_result"
    }
   ],
   "source": [
    "prob_all_tokens"
   ]
  },
  {
   "cell_type": "code",
   "execution_count": 14,
   "id": "ddd5907e",
   "metadata": {},
   "outputs": [
    {
     "data": {
      "text/plain": [
       "(2500,)"
      ]
     },
     "execution_count": 14,
     "metadata": {},
     "output_type": "execute_result"
    }
   ],
   "source": [
    "prob_all_tokens.shape"
   ]
  },
  {
   "cell_type": "code",
   "execution_count": 15,
   "id": "633754a0",
   "metadata": {},
   "outputs": [
    {
     "data": {
      "text/plain": [
       "array([0.43077878, 0.14572918, 0.14635551, ..., 0.57105549, 0.0908913 ,\n",
       "       0.26089655])"
      ]
     },
     "execution_count": 15,
     "metadata": {},
     "output_type": "execute_result"
    }
   ],
   "source": [
    "X_test.dot(prob_token_spam)"
   ]
  },
  {
   "cell_type": "code",
   "execution_count": 16,
   "id": "755e7183",
   "metadata": {},
   "outputs": [
    {
     "data": {
      "text/plain": [
       "(1724,)"
      ]
     },
     "execution_count": 16,
     "metadata": {},
     "output_type": "execute_result"
    }
   ],
   "source": [
    "X_test.dot(prob_token_spam).shape"
   ]
  },
  {
   "cell_type": "markdown",
   "id": "b2d5eef3",
   "metadata": {},
   "source": [
    "## Set the Prior\n",
    "\n",
    "$$P(Spam\\,|\\,X)\\,=\\,\\frac{P(X\\,|\\,Spam)\\,P(Spam)}{P(X)}$$"
   ]
  },
  {
   "cell_type": "code",
   "execution_count": 17,
   "id": "eaa8a4b8",
   "metadata": {},
   "outputs": [],
   "source": [
    "PROB_SPAM = 0.3116"
   ]
  },
  {
   "cell_type": "code",
   "execution_count": 25,
   "id": "d149e4af",
   "metadata": {},
   "outputs": [],
   "source": [
    "log_prob_spam = np.log(prob_token_spam)"
   ]
  },
  {
   "cell_type": "code",
   "execution_count": 26,
   "id": "75f68eaa",
   "metadata": {},
   "outputs": [],
   "source": [
    "log_prob_ham = np.log(prob_token_ham)"
   ]
  },
  {
   "cell_type": "code",
   "execution_count": 27,
   "id": "b351adff",
   "metadata": {},
   "outputs": [],
   "source": [
    "log_prob_all_tokens = np.log(prob_all_tokens)"
   ]
  },
  {
   "cell_type": "markdown",
   "id": "bbe9598f",
   "metadata": {},
   "source": [
    "### Joint probability in log format"
   ]
  },
  {
   "cell_type": "code",
   "execution_count": 28,
   "id": "a2ef2b79",
   "metadata": {},
   "outputs": [],
   "source": [
    "joint_log_spam = X_test.dot(log_prob_spam - log_prob_all_tokens) + np.log(PROB_SPAM)"
   ]
  },
  {
   "cell_type": "code",
   "execution_count": 29,
   "id": "4f0f424e",
   "metadata": {},
   "outputs": [
    {
     "data": {
      "text/plain": [
       "array([  24.27580867,    2.15999942,   20.59075715, ..., -374.67511827,\n",
       "         -9.9024603 , -112.0276256 ])"
      ]
     },
     "execution_count": 29,
     "metadata": {},
     "output_type": "execute_result"
    }
   ],
   "source": [
    "joint_log_spam"
   ]
  },
  {
   "cell_type": "markdown",
   "id": "e768946b",
   "metadata": {},
   "source": [
    "$$P(Ham\\,|\\,X)\\,=\\,\\frac{P(X\\,|\\,Ham)\\,(1\\,-\\,P(Spam))}{P(X)}$$"
   ]
  },
  {
   "cell_type": "code",
   "execution_count": 33,
   "id": "9ccd66d4",
   "metadata": {},
   "outputs": [],
   "source": [
    "joint_log_ham = X_test.dot(log_prob_ham - log_prob_all_tokens) + np.log(1 - PROB_SPAM)"
   ]
  },
  {
   "cell_type": "code",
   "execution_count": 34,
   "id": "e0a48367",
   "metadata": {},
   "outputs": [
    {
     "data": {
      "text/plain": [
       "array([-6.09682485e+01, -1.10090532e+01, -3.79678354e+01, ...,\n",
       "        6.09843402e+01, -5.86285468e-02,  2.44574161e+01])"
      ]
     },
     "execution_count": 34,
     "metadata": {},
     "output_type": "execute_result"
    }
   ],
   "source": [
    "joint_log_ham"
   ]
  },
  {
   "cell_type": "code",
   "execution_count": null,
   "id": "3cad2d18",
   "metadata": {},
   "outputs": [],
   "source": []
  },
  {
   "cell_type": "code",
   "execution_count": null,
   "id": "b9c0857f",
   "metadata": {},
   "outputs": [],
   "source": []
  },
  {
   "cell_type": "code",
   "execution_count": null,
   "id": "8f23c64a",
   "metadata": {},
   "outputs": [],
   "source": []
  }
 ],
 "metadata": {
  "kernelspec": {
   "display_name": "Python 3 (ipykernel)",
   "language": "python",
   "name": "python3"
  },
  "language_info": {
   "codemirror_mode": {
    "name": "ipython",
    "version": 3
   },
   "file_extension": ".py",
   "mimetype": "text/x-python",
   "name": "python",
   "nbconvert_exporter": "python",
   "pygments_lexer": "ipython3",
   "version": "3.9.11"
  }
 },
 "nbformat": 4,
 "nbformat_minor": 5
}
